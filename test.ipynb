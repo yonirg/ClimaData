{
 "cells": [
  {
   "cell_type": "code",
   "execution_count": 1,
   "id": "9589d81f",
   "metadata": {},
   "outputs": [
    {
     "name": "stdout",
     "output_type": "stream",
     "text": [
      "timestamp      datetime64[ns, UTC]\n",
      "station_id                   int16\n",
      "region                      object\n",
      "temperature                float32\n",
      "humidity                   float32\n",
      "pressure                   float32\n",
      "dtype: object\n"
     ]
    }
   ],
   "source": [
    "import pandas as pd, pyarrow.parquet as pq\n",
    "df = pd.read_parquet(\"/tmp/climadata/weather_events.parquet\")\n",
    "print(df.dtypes)"
   ]
  }
 ],
 "metadata": {
  "kernelspec": {
   "display_name": "venv",
   "language": "python",
   "name": "python3"
  },
  "language_info": {
   "codemirror_mode": {
    "name": "ipython",
    "version": 3
   },
   "file_extension": ".py",
   "mimetype": "text/x-python",
   "name": "python",
   "nbconvert_exporter": "python",
   "pygments_lexer": "ipython3",
   "version": "3.12.1"
  }
 },
 "nbformat": 4,
 "nbformat_minor": 5
}
